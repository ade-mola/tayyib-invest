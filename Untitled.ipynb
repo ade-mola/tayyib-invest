{
 "cells": [
  {
   "cell_type": "code",
   "execution_count": 2,
   "id": "c942da49-76a8-4b15-8fc4-241294dea83d",
   "metadata": {
    "ExecuteTime": {
     "end_time": "2024-12-18T16:31:04.717273Z",
     "start_time": "2024-12-18T16:31:03.949863Z"
    }
   },
   "outputs": [],
   "source": [
    "import yfinance as yf"
   ]
  },
  {
   "cell_type": "code",
   "execution_count": 2,
   "id": "94d9a7bfd14119c",
   "metadata": {
    "ExecuteTime": {
     "end_time": "2024-12-18T13:36:17.218379Z",
     "start_time": "2024-12-18T13:36:17.203199Z"
    }
   },
   "outputs": [],
   "source": [
    "tesla = yf.Ticker(ticker=\"TSLA\")"
   ]
  },
  {
   "cell_type": "code",
   "execution_count": 4,
   "id": "7e3d3a654e7b7260",
   "metadata": {
    "ExecuteTime": {
     "end_time": "2024-12-18T13:36:54.569726Z",
     "start_time": "2024-12-18T13:36:54.550379Z"
    }
   },
   "outputs": [
    {
     "data": {
      "text/html": [
       "<div>\n",
       "<style scoped>\n",
       "    .dataframe tbody tr th:only-of-type {\n",
       "        vertical-align: middle;\n",
       "    }\n",
       "\n",
       "    .dataframe tbody tr th {\n",
       "        vertical-align: top;\n",
       "    }\n",
       "\n",
       "    .dataframe thead th {\n",
       "        text-align: right;\n",
       "    }\n",
       "</style>\n",
       "<table border=\"1\" class=\"dataframe\">\n",
       "  <thead>\n",
       "    <tr style=\"text-align: right;\">\n",
       "      <th></th>\n",
       "      <th>2023-12-31</th>\n",
       "      <th>2022-12-31</th>\n",
       "      <th>2021-12-31</th>\n",
       "      <th>2020-12-31</th>\n",
       "      <th>2019-12-31</th>\n",
       "    </tr>\n",
       "  </thead>\n",
       "  <tbody>\n",
       "    <tr>\n",
       "      <th>Treasury Shares Number</th>\n",
       "      <td>0.0</td>\n",
       "      <td>NaN</td>\n",
       "      <td>NaN</td>\n",
       "      <td>NaN</td>\n",
       "      <td>NaN</td>\n",
       "    </tr>\n",
       "    <tr>\n",
       "      <th>Ordinary Shares Number</th>\n",
       "      <td>3185000000.0</td>\n",
       "      <td>3164000000.0</td>\n",
       "      <td>3099000000.0</td>\n",
       "      <td>2880000000.0</td>\n",
       "      <td>NaN</td>\n",
       "    </tr>\n",
       "    <tr>\n",
       "      <th>Share Issued</th>\n",
       "      <td>3185000000.0</td>\n",
       "      <td>3164000000.0</td>\n",
       "      <td>3099000000.0</td>\n",
       "      <td>2880000000.0</td>\n",
       "      <td>NaN</td>\n",
       "    </tr>\n",
       "    <tr>\n",
       "      <th>Net Debt</th>\n",
       "      <td>NaN</td>\n",
       "      <td>NaN</td>\n",
       "      <td>NaN</td>\n",
       "      <td>NaN</td>\n",
       "      <td>5533000000.0</td>\n",
       "    </tr>\n",
       "    <tr>\n",
       "      <th>Total Debt</th>\n",
       "      <td>9573000000.0</td>\n",
       "      <td>5748000000.0</td>\n",
       "      <td>8873000000.0</td>\n",
       "      <td>13279000000.0</td>\n",
       "      <td>NaN</td>\n",
       "    </tr>\n",
       "    <tr>\n",
       "      <th>...</th>\n",
       "      <td>...</td>\n",
       "      <td>...</td>\n",
       "      <td>...</td>\n",
       "      <td>...</td>\n",
       "      <td>...</td>\n",
       "    </tr>\n",
       "    <tr>\n",
       "      <th>Cash Cash Equivalents And Short Term Investments</th>\n",
       "      <td>29094000000.0</td>\n",
       "      <td>22185000000.0</td>\n",
       "      <td>17707000000.0</td>\n",
       "      <td>19384000000.0</td>\n",
       "      <td>NaN</td>\n",
       "    </tr>\n",
       "    <tr>\n",
       "      <th>Other Short Term Investments</th>\n",
       "      <td>12696000000.0</td>\n",
       "      <td>5932000000.0</td>\n",
       "      <td>131000000.0</td>\n",
       "      <td>0.0</td>\n",
       "      <td>NaN</td>\n",
       "    </tr>\n",
       "    <tr>\n",
       "      <th>Cash And Cash Equivalents</th>\n",
       "      <td>16398000000.0</td>\n",
       "      <td>16253000000.0</td>\n",
       "      <td>17576000000.0</td>\n",
       "      <td>19384000000.0</td>\n",
       "      <td>NaN</td>\n",
       "    </tr>\n",
       "    <tr>\n",
       "      <th>Cash Equivalents</th>\n",
       "      <td>495000000.0</td>\n",
       "      <td>2288000000.0</td>\n",
       "      <td>9548000000.0</td>\n",
       "      <td>NaN</td>\n",
       "      <td>NaN</td>\n",
       "    </tr>\n",
       "    <tr>\n",
       "      <th>Cash Financial</th>\n",
       "      <td>15903000000.0</td>\n",
       "      <td>13965000000.0</td>\n",
       "      <td>8028000000.0</td>\n",
       "      <td>NaN</td>\n",
       "      <td>NaN</td>\n",
       "    </tr>\n",
       "  </tbody>\n",
       "</table>\n",
       "<p>84 rows × 5 columns</p>\n",
       "</div>"
      ],
      "text/plain": [
       "                                                     2023-12-31  \\\n",
       "Treasury Shares Number                                      0.0   \n",
       "Ordinary Shares Number                             3185000000.0   \n",
       "Share Issued                                       3185000000.0   \n",
       "Net Debt                                                    NaN   \n",
       "Total Debt                                         9573000000.0   \n",
       "...                                                         ...   \n",
       "Cash Cash Equivalents And Short Term Investments  29094000000.0   \n",
       "Other Short Term Investments                      12696000000.0   \n",
       "Cash And Cash Equivalents                         16398000000.0   \n",
       "Cash Equivalents                                    495000000.0   \n",
       "Cash Financial                                    15903000000.0   \n",
       "\n",
       "                                                     2022-12-31  \\\n",
       "Treasury Shares Number                                      NaN   \n",
       "Ordinary Shares Number                             3164000000.0   \n",
       "Share Issued                                       3164000000.0   \n",
       "Net Debt                                                    NaN   \n",
       "Total Debt                                         5748000000.0   \n",
       "...                                                         ...   \n",
       "Cash Cash Equivalents And Short Term Investments  22185000000.0   \n",
       "Other Short Term Investments                       5932000000.0   \n",
       "Cash And Cash Equivalents                         16253000000.0   \n",
       "Cash Equivalents                                   2288000000.0   \n",
       "Cash Financial                                    13965000000.0   \n",
       "\n",
       "                                                     2021-12-31  \\\n",
       "Treasury Shares Number                                      NaN   \n",
       "Ordinary Shares Number                             3099000000.0   \n",
       "Share Issued                                       3099000000.0   \n",
       "Net Debt                                                    NaN   \n",
       "Total Debt                                         8873000000.0   \n",
       "...                                                         ...   \n",
       "Cash Cash Equivalents And Short Term Investments  17707000000.0   \n",
       "Other Short Term Investments                        131000000.0   \n",
       "Cash And Cash Equivalents                         17576000000.0   \n",
       "Cash Equivalents                                   9548000000.0   \n",
       "Cash Financial                                     8028000000.0   \n",
       "\n",
       "                                                     2020-12-31    2019-12-31  \n",
       "Treasury Shares Number                                      NaN           NaN  \n",
       "Ordinary Shares Number                             2880000000.0           NaN  \n",
       "Share Issued                                       2880000000.0           NaN  \n",
       "Net Debt                                                    NaN  5533000000.0  \n",
       "Total Debt                                        13279000000.0           NaN  \n",
       "...                                                         ...           ...  \n",
       "Cash Cash Equivalents And Short Term Investments  19384000000.0           NaN  \n",
       "Other Short Term Investments                                0.0           NaN  \n",
       "Cash And Cash Equivalents                         19384000000.0           NaN  \n",
       "Cash Equivalents                                            NaN           NaN  \n",
       "Cash Financial                                              NaN           NaN  \n",
       "\n",
       "[84 rows x 5 columns]"
      ]
     },
     "execution_count": 4,
     "metadata": {},
     "output_type": "execute_result"
    }
   ],
   "source": [
    "tesla.balance_sheet"
   ]
  },
  {
   "cell_type": "code",
   "execution_count": 75,
   "id": "f1838cc8d03659a4",
   "metadata": {
    "ExecuteTime": {
     "end_time": "2024-12-19T00:50:19.918297Z",
     "start_time": "2024-12-19T00:50:19.855328Z"
    }
   },
   "outputs": [
    {
     "data": {
      "text/plain": [
       "'Financial Services'"
      ]
     },
     "execution_count": 75,
     "metadata": {},
     "output_type": "execute_result"
    }
   ],
   "source": [
    "yf.Ticker(\"GS\").info.get(\"sector\", \"\")"
   ]
  },
  {
   "cell_type": "code",
   "execution_count": 73,
   "id": "c7d0a303ffb2e532",
   "metadata": {
    "ExecuteTime": {
     "end_time": "2024-12-19T00:43:19.731635Z",
     "start_time": "2024-12-19T00:43:19.722460Z"
    }
   },
   "outputs": [
    {
     "data": {
      "text/plain": [
       "1.9293113254195549"
      ]
     },
     "execution_count": 73,
     "metadata": {},
     "output_type": "execute_result"
    }
   ],
   "source": [
    "333248000000 / 172728991744"
   ]
  },
  {
   "cell_type": "code",
   "execution_count": 72,
   "id": "a445a1b6ee4d382c",
   "metadata": {
    "ExecuteTime": {
     "end_time": "2024-12-19T00:42:57.966234Z",
     "start_time": "2024-12-19T00:42:57.809854Z"
    }
   },
   "outputs": [
    {
     "data": {
      "text/plain": [
       "Treasury Shares Number                              599518678.0\n",
       "Preferred Shares Number                              91998000.0\n",
       "Ordinary Shares Number                              323376354.0\n",
       "Share Issued                                        922895032.0\n",
       "Net Debt                                          89439000000.0\n",
       "Total Debt                                       333248000000.0\n",
       "Tangible Book Value                               98609000000.0\n",
       "Invested Capital                                 436718000000.0\n",
       "Net Tangible Assets                              109812000000.0\n",
       "Capital Lease Obligations                          2232000000.0\n",
       "Common Stock Equity                              105702000000.0\n",
       "Preferred Stock Equity                            11203000000.0\n",
       "Total Capitalization                             364772000000.0\n",
       "Total Equity Gross Minority Interest             116905000000.0\n",
       "Stockholders Equity                              116905000000.0\n",
       "Other Equity Interest                              5121000000.0\n",
       "Gains Losses Not Affecting Retained Earnings      -2918000000.0\n",
       "Treasury Stock                                   100445000000.0\n",
       "Retained Earnings                                143688000000.0\n",
       "Additional Paid In Capital                        60247000000.0\n",
       "Capital Stock                                     11212000000.0\n",
       "Common Stock                                          9000000.0\n",
       "Preferred Stock                                   11203000000.0\n",
       "Total Liabilities Net Minority Interest         1524689000000.0\n",
       "Preferred Securities Outside Stock Equity           363000000.0\n",
       "Derivative Product Liabilities                    56754000000.0\n",
       "Employee Benefits                                  7823000000.0\n",
       "Long Term Debt And Capital Lease Obligation      250099000000.0\n",
       "Long Term Capital Lease Obligation                 2232000000.0\n",
       "Long Term Debt                                   247867000000.0\n",
       "Current Debt And Capital Lease Obligation         83149000000.0\n",
       "Current Debt                                      83149000000.0\n",
       "Other Current Borrowings                          81936000000.0\n",
       "Commercial Paper                                   1213000000.0\n",
       "Payables And Accrued Expenses                    244113000000.0\n",
       "Current Accrued Expenses                          10438000000.0\n",
       "Payables                                         233675000000.0\n",
       "Total Tax Payable                                  2947000000.0\n",
       "Income Tax Payable                                 2947000000.0\n",
       "Accounts Payable                                 230728000000.0\n",
       "Total Assets                                    1641594000000.0\n",
       "Investments And Advances                         573229000000.0\n",
       "Held To Maturity Securities                       56835000000.0\n",
       "Available For Sale Securities                     56069000000.0\n",
       "Trading Securities                               426390000000.0\n",
       "Long Term Equity Investment                         762000000.0\n",
       "Goodwill And Other Intangible Assets               7093000000.0\n",
       "Other Intangible Assets                            1177000000.0\n",
       "Goodwill                                           5916000000.0\n",
       "Net PPE                                           13415000000.0\n",
       "Accumulated Depreciation                         -13640000000.0\n",
       "Gross PPE                                         27055000000.0\n",
       "Other Properties                                  27055000000.0\n",
       "Receivables                                      148577000000.0\n",
       "Other Receivables                                 16082000000.0\n",
       "Accounts Receivable                              132495000000.0\n",
       "Other Short Term Investments                      33173000000.0\n",
       "Cash And Cash Equivalents                        241577000000.0\n",
       "Cash Cash Equivalents And Federal Funds Sold     465382000000.0\n",
       "Name: 2023-12-31 00:00:00, dtype: object"
      ]
     },
     "execution_count": 72,
     "metadata": {},
     "output_type": "execute_result"
    }
   ],
   "source": [
    "yf.Ticker(\"GS\").balancesheet.iloc[:, 0]"
   ]
  },
  {
   "cell_type": "code",
   "execution_count": 36,
   "id": "2020d7e1d0d428ff",
   "metadata": {
    "ExecuteTime": {
     "end_time": "2024-12-18T19:18:10.369748Z",
     "start_time": "2024-12-18T19:18:10.325626Z"
    }
   },
   "outputs": [
    {
     "data": {
      "text/plain": [
       "12628000000.0"
      ]
     },
     "execution_count": 36,
     "metadata": {},
     "output_type": "execute_result"
    }
   ],
   "source": [
    "sources = [\n",
    "    \"Interest Income\",\n",
    "    \"Interest Expense\",\n",
    "    \"Net Interest Income\",\n",
    "    \"Interest Income Non Operating\",\n",
    "    \"Interest Expense Non Operating\",\n",
    "    \"Net Non Operating Interest Income Expense\",\n",
    "]\n",
    "\n",
    "\n",
    "yf.Ticker(\"MSFT\").financials.iloc[:, 0].filter(items=sources).sum()"
   ]
  },
  {
   "cell_type": "code",
   "execution_count": null,
   "id": "dddc8934742f0d0f",
   "metadata": {},
   "outputs": [],
   "source": [
    "select = [\"ANN\", \"ARG\", \"ASYNC\", \"B\", \"E\", \"F\", \"I\", \"N\", \"PL\", \"Q\", \"S\", \"TC\", \"UP\", \"W\"]\n",
    "ignore = [\"ANN401\", \"B008\", \"PLR2004\", \"PLR6301\", \"TC006\"]"
   ]
  }
 ],
 "metadata": {
  "kernelspec": {
   "display_name": "Python 3 (ipykernel)",
   "language": "python",
   "name": "python3"
  },
  "language_info": {
   "codemirror_mode": {
    "name": "ipython",
    "version": 3
   },
   "file_extension": ".py",
   "mimetype": "text/x-python",
   "name": "python",
   "nbconvert_exporter": "python",
   "pygments_lexer": "ipython3",
   "version": "3.12.8"
  }
 },
 "nbformat": 4,
 "nbformat_minor": 5
}
